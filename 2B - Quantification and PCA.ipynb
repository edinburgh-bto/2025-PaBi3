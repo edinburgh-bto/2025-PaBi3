{
 "cells": [
  {
   "cell_type": "markdown",
   "id": "48f1d74f-32cb-4448-952b-30b808fa2c99",
   "metadata": {},
   "source": [
    "# What to expect\n",
    "\n",
    "In notebook 2A we looked at the output of STAR, and combined the results for each sample in the <i>Schistosoma mansoni</i> example dataset into a single dataframe. We considered ways to normalise the gene count data and viewed the results using  Principal Component Analysis. In this second part of this session, you will repeat most of this process for your choice of dataset."
   ]
  },
  {
   "cell_type": "markdown",
   "id": "108a2e72-f73e-4841-a04c-73583de67adf",
   "metadata": {},
   "source": [
    "# Checking the quality of mapping\n",
    "As before, take a look at the `analysis/<dataset>/multiqc/multiqc_report.html` by double-clicking.\n",
    "\n",
    "<div class=\"alert alert-block alert-warning\">\n",
    "\n",
    "Answer the following questions. Your answers will be helpful to complete the bioinformatics analysis summary.\n",
    "\n",
    "- What % of reads mapped to only one gene of the reference genome?\n",
    "- Are there any samples that look less good? If so, in what way? How might this impact your results?"
   ]
  },
  {
   "cell_type": "markdown",
   "id": "69870ffd-de75-450a-9cf8-8a0256ae245c",
   "metadata": {},
   "source": [
    "You can use this text cell to make notes, or add the answers straight into your analysis summary\n",
    "\n",
    "\\\n",
    "\n",
    "\\\n",
    "\n",
    "\\"
   ]
  },
  {
   "cell_type": "markdown",
   "id": "203d139a-dcc8-49a4-91d1-37b8861105af",
   "metadata": {},
   "source": [
    "# Combining data across samples\n",
    "\n",
    "As with the example dataset in 2A, we have a set of files in the `star` folder. Each file contains the mapping result for that particular sample. Have a look at the mapping results for one of the samples"
   ]
  },
  {
   "cell_type": "code",
   "execution_count": null,
   "id": "a26532c7-8072-4bc5-a5c3-7d79344d3d38",
   "metadata": {},
   "outputs": [],
   "source": [
    "#Add code here to look at the mapping results for one sample in your dataset"
   ]
  },
  {
   "cell_type": "markdown",
   "id": "0e076e6e-3195-46f3-a62c-f611d692c823",
   "metadata": {},
   "source": [
    "To analyse the data further, we need to combine the results form each sample in one dataframe, which will be our master dataframe.  \n",
    "\n",
    "The dataframe should have the gene name as index, and a column of reads per gene for each sample. Each column should have the accession number of that sample as column name. "
   ]
  },
  {
   "cell_type": "markdown",
   "id": "10dbec1d-8c6b-49d7-a01d-8beb6c2a213e",
   "metadata": {},
   "source": [
    "<div class=\"alert alert-block alert-warning\">\n",
    "\n",
    "Take the code you used in notebook 2A to generate the master dataframe for the example dataset and modify it as required to create the master dataframe for your dataset."
   ]
  },
  {
   "cell_type": "code",
   "execution_count": null,
   "id": "243e9dd3-6864-4769-a7cb-8538812e9b88",
   "metadata": {},
   "outputs": [],
   "source": [
    "# Using a loop, create the list with the accession numbers \n",
    "\n",
    "\n",
    "# have a look at the list to check it all worked well"
   ]
  },
  {
   "cell_type": "code",
   "execution_count": null,
   "id": "e8d4e419-2a86-46c0-a0f4-f652d4f98134",
   "metadata": {},
   "outputs": [],
   "source": [
    "# Import pandas\n",
    "import pandas as pd\n",
    "\n",
    "# Create the master dataframe\n",
    "master_df = pd.DataFrame()\n",
    "\n",
    "\n",
    "# Use a loop to add the index and the data to the master_df\n",
    "\n",
    "# Have a look at the master_df\n"
   ]
  },
  {
   "cell_type": "code",
   "execution_count": null,
   "id": "30dfae70-609d-4c6a-91ed-22819dee3571",
   "metadata": {},
   "outputs": [],
   "source": [
    "# Clean the dataframe to make sure it is ready for the next step of the analysis\n",
    "\n",
    "# Have a look at the cleaned master_df"
   ]
  },
  {
   "cell_type": "markdown",
   "id": "9069db4a-7209-4f54-af98-ec27323dafff",
   "metadata": {},
   "source": [
    "<div class=\"alert alert-block alert-warning\">\n",
    "\n",
    "Take a few moments to look at the dataframe and compare it with the one the rest of your group obtained. Did you get the same output? Does it look like the one shown on the projector? If not, try to figure out why, and feel free to ask your peers and the demonstrators for help."
   ]
  },
  {
   "cell_type": "code",
   "execution_count": null,
   "id": "f9b853b8-bd0c-4e27-8280-be9fea0d6958",
   "metadata": {},
   "outputs": [],
   "source": [
    "# Save the dataframe as a csv file so we can look at it later\n",
    "master_df_clean.to_csv(f\"analysis/<dataset>/star/ReadsPerGene.csv\")"
   ]
  },
  {
   "cell_type": "markdown",
   "id": "cb2b6a38-b0b8-4a0f-8f2e-87a2da4afe7f",
   "metadata": {},
   "source": [
    "# Normalisation\n",
    "As with the example dataset, we will now use the python package [PyDESeq2](https://pydeseq2.readthedocs.io/en/latest/api/index.html) to normalise our gene counts and quantify the log fold change.\n",
    "\n",
    "As before, we will need a counts table and a metadata table. For each dataset we have provided metadata in `data/<dataset>/metadata.csv`, so we just need to read that into a dataframe"
   ]
  },
  {
   "cell_type": "code",
   "execution_count": null,
   "id": "72f0b1f4-7cef-4d97-a6de-8e05d2747cb9",
   "metadata": {},
   "outputs": [],
   "source": [
    "#create the counts matrix by transposing our master_df\n",
    "counts =\n",
    "\n",
    "#create the metadata table. The index should be the accession number.\n",
    "metadata =\n",
    "\n",
    "# Let's have a look at the metadata to make sure it looks right.\n",
    "metadata"
   ]
  },
  {
   "cell_type": "markdown",
   "id": "8dedd188-7493-4dfe-8c11-65094330dde6",
   "metadata": {},
   "source": [
    "Hopefully you have noticed that the experiment in your dataset is a bit more complex than that in the example dataset. In your dataset, there are other variables (different genotypes for Plasmodium, different species for Trypanosoma). However, we do not need the data for all the experimental conditons for our analysis, because:\n",
    "- For <i>Plasmodium</i>, we only want to compare the wildtype at the different timepoints.\n",
    "- For <i>Trypanosoma</i>, we only want to compare <i>Trypanosoma brucei brucei</i> with different morphologies.\n",
    "\n",
    "Therefore, we have to create a filtered version of the metadata (metadata_s) and counts (counts_s) to use with PyDESeq2, so that they only contain the conditions we are interested in. We practised how to do this in notebook 1. "
   ]
  },
  {
   "cell_type": "markdown",
   "id": "d61b69b2-7c2b-4712-b46f-a0d95fab6df3",
   "metadata": {},
   "source": [
    "<div class=\"alert alert-block alert-warning\">\n",
    "    \n",
    "Create the counts and the metadata tables so that they only contain the conditions we want to compare."
   ]
  },
  {
   "cell_type": "code",
   "execution_count": 15,
   "id": "2f943483-96f2-4daf-a120-4177354fbdf1",
   "metadata": {},
   "outputs": [],
   "source": [
    "#add code below to create the filtered dataframes\n",
    "counts_s = \n",
    "metadata_s = "
   ]
  },
  {
   "cell_type": "markdown",
   "id": "6c7d3d84-a446-4e7a-9eca-335a859c0e14",
   "metadata": {},
   "source": [
    "\n",
    "Now, we are ready to generate the DeseqDataSet object using the relevant `design` and apply the deseq2 method."
   ]
  },
  {
   "cell_type": "markdown",
   "id": "08336e58-ee82-41d4-b208-45b11be48adf",
   "metadata": {},
   "source": [
    "<div class=\"alert alert-block alert-warning\">\n",
    "    \n",
    "Fill in the code below with the relevant design factor for your analysis."
   ]
  },
  {
   "cell_type": "code",
   "execution_count": null,
   "id": "0bd663a6-0a5a-41f0-adaa-47fa560c81da",
   "metadata": {},
   "outputs": [],
   "source": [
    "! pip install --quiet pydeseq2\n",
    "from pydeseq2.dds import DeseqDataSet\n",
    "\n",
    "dds = DeseqDataSet(\n",
    "    counts=counts_s,\n",
    "    metadata=metadata_s,\n",
    "    refit_cooks=True,\n",
    "    design=\n",
    ")\n",
    "\n",
    "dds.deseq2()"
   ]
  },
  {
   "cell_type": "markdown",
   "id": "3cc32499-1820-41e1-b672-bc6ae9b8b2d4",
   "metadata": {},
   "source": [
    "# PCA Plot\n",
    "\n",
    "Now take a look at how the overall data looks on a Principal Component Analysis plot of PC1 and PC2. "
   ]
  },
  {
   "cell_type": "code",
   "execution_count": null,
   "id": "3fb01674-1d31-4fba-8bd3-4a6754bd887c",
   "metadata": {},
   "outputs": [],
   "source": [
    "! pip install --quiet scanpy\n",
    "import scanpy as sc\n",
    "\n",
    "sc.tl.pca(dds)\n",
    "sc.pl.pca(dds, color=<design factor>, size=200, annotate_var_explained=True)"
   ]
  },
  {
   "cell_type": "markdown",
   "id": "3e15c171-8182-44fb-9d5c-3772996c3e63",
   "metadata": {},
   "source": [
    "<div class=\"alert alert-block alert-warning\">\n",
    "\n",
    "Answer the following questions. Your answers will be helpful to complete the bioinformatics analysis summary.\n",
    "\n",
    "- Is there a separation between the groups?\n",
    "- Does reproducibility look good?\n",
    "- What is PC1 separating?\n",
    "- What is PC2 separating?"
   ]
  },
  {
   "cell_type": "markdown",
   "id": "2d1e0eaa-45fc-4e30-8549-fbc755960171",
   "metadata": {},
   "source": [
    "You can use this text cell to make notes, or add the answers straight into your analysis summary\n",
    "\n",
    "\\\n",
    "\n",
    "\\\n",
    "\n",
    "\\"
   ]
  },
  {
   "cell_type": "markdown",
   "id": "f84bc9de",
   "metadata": {},
   "source": [
    "Look at the loadings associated with the two components."
   ]
  },
  {
   "cell_type": "code",
   "execution_count": null,
   "id": "8f9d9f0e",
   "metadata": {},
   "outputs": [],
   "source": [
    "sc.pl.pca_loadings(dds, components = '1,2')"
   ]
  },
  {
   "cell_type": "markdown",
   "id": "301ec1f2",
   "metadata": {},
   "source": [
    "<div class=\"alert alert-block alert-warning\">\n",
    "\n",
    "Answer the following question. Your answer will be helpful to complete the bioinformatics analysis summary.\n",
    "\n",
    "What is the top ranked gene for each component? What do these genes encode?"
   ]
  },
  {
   "cell_type": "markdown",
   "id": "8e41a85a-6d45-4a84-a2b9-d1ba718ce596",
   "metadata": {},
   "source": [
    "You can use this text cell to make notes, or add the answers straight into your analysis summary\n",
    "\n",
    "\\\n",
    "\n",
    "\\\n",
    "\n",
    "\\"
   ]
  },
  {
   "cell_type": "code",
   "execution_count": null,
   "id": "1ed2074f-5374-48fb-aa05-a3ed82cfe9fb",
   "metadata": {},
   "outputs": [],
   "source": []
  }
 ],
 "metadata": {
  "kernelspec": {
   "display_name": "Python 3 (ipykernel)",
   "language": "python",
   "name": "python3"
  },
  "language_info": {
   "codemirror_mode": {
    "name": "ipython",
    "version": 3
   },
   "file_extension": ".py",
   "mimetype": "text/x-python",
   "name": "python",
   "nbconvert_exporter": "python",
   "pygments_lexer": "ipython3",
   "version": "3.12.11"
  }
 },
 "nbformat": 4,
 "nbformat_minor": 5
}
