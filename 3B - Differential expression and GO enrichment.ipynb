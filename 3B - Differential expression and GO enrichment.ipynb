{
 "cells": [
  {
   "cell_type": "markdown",
   "id": "9cb5d0fd-c933-4bf4-b0dd-59f75f7ae8d6",
   "metadata": {},
   "source": [
    "# What to expect\n",
    "\n",
    "In notebook 3A we ran a differential gene expression analysis on the example dataset <i>Schistosoma mansoni</i> and visualised the results in a volcano plot. \n",
    "\n",
    "In this notebook we will apply the same methods to our dataset of choice."
   ]
  },
  {
   "cell_type": "markdown",
   "id": "db96af3d-18d0-4a3c-bbfd-c81723185ba8",
   "metadata": {},
   "source": [
    "# Set up\n",
    "First, we need to import the required libraries and install PyDESeq2 again"
   ]
  },
  {
   "cell_type": "code",
   "execution_count": null,
   "id": "fa59bc50-e874-447a-9ca1-6f335196e5be",
   "metadata": {},
   "outputs": [],
   "source": [
    "# import required libraries\n",
    "import pandas as pd\n",
    "\n",
    "#Install PyDESeq2 and import required classes\n",
    "! pip install --quiet pydeseq2\n",
    "from pydeseq2.dds import DeseqDataSet\n",
    "from pydeseq2.ds import DeseqStats"
   ]
  },
  {
   "cell_type": "markdown",
   "id": "ec7a360f-d1f5-4865-a88a-b2d56c1e11c5",
   "metadata": {},
   "source": [
    "We now need to create the dds object again, as we will use it for the next steps of the analysis."
   ]
  },
  {
   "cell_type": "markdown",
   "id": "342e4957-fe1e-471b-9196-cad0e7b01df9",
   "metadata": {},
   "source": [
    "<div class=\"alert alert-block alert-warning\">\n",
    "    \n",
    "Create the counts and the metadata tables and restrict them so that they only contain the conditions we want to compare."
   ]
  },
  {
   "cell_type": "code",
   "execution_count": null,
   "id": "e732a14b-d957-43a1-87ed-7bf12320dfc5",
   "metadata": {},
   "outputs": [],
   "source": [
    "# load the counts and metadata again - remember that we have to transpose the ReadsPerGene table to use it in PyDESeq2\n",
    "counts = \n",
    "metadata = \n",
    "\n",
    "# restrict to the 2 stages we want to compare.\n",
    "counts_s = \n",
    "metadata_s = "
   ]
  },
  {
   "cell_type": "markdown",
   "id": "a46da839-6ab6-4b2e-b744-97167b95b07a",
   "metadata": {},
   "source": [
    "Now that we have the counts and metadata, we can create the DESeq2 dataset again"
   ]
  },
  {
   "cell_type": "code",
   "execution_count": null,
   "id": "43f1c099-40d4-4311-8c77-39468638e296",
   "metadata": {},
   "outputs": [],
   "source": [
    "# create DESeq2 dataset object using the design factor appropriate to your dataset\n",
    "dds = DeseqDataSet(\n",
    "    counts=counts_s,\n",
    "    metadata=metadata_s,\n",
    "    design=,\n",
    "    refit_cooks=True\n",
    ")"
   ]
  },
  {
   "cell_type": "markdown",
   "id": "1ff4081b-f2f5-481b-8310-6e95f5acbdf3",
   "metadata": {},
   "source": [
    "# Differential Expression analysis"
   ]
  },
  {
   "cell_type": "markdown",
   "id": "c9d5837b-60b8-445c-877d-73019c3ff977",
   "metadata": {},
   "source": [
    "We will now apply the `deseq2` method to our dds object. Remember that this method normalises the data, estimates the dispersion and calculates the log fold change (LFC) based on the design factor."
   ]
  },
  {
   "cell_type": "code",
   "execution_count": null,
   "id": "37220e40-3001-417e-b5d4-ae4b00c5cec8",
   "metadata": {},
   "outputs": [],
   "source": [
    "# Run DESeq2\n",
    "dds.deseq2()"
   ]
  },
  {
   "cell_type": "markdown",
   "id": "a7cd4a32-044a-4dbc-b04e-bb886ecd2718",
   "metadata": {},
   "source": [
    "To perform statistical analysis, use the class `DeseqStats` on our dds object, and store the output in a new object called \"stat_res\". "
   ]
  },
  {
   "cell_type": "code",
   "execution_count": null,
   "id": "aad36013-d3a3-40e5-b9a7-08375b7c168c",
   "metadata": {},
   "outputs": [],
   "source": [
    "stat_res=DeseqStats(dds, contrast=[<design>, <stumpy OR wildtype 22-24 hrs post invasion>, <slender OR wildtype 16hrs post invasion>])"
   ]
  },
  {
   "cell_type": "markdown",
   "id": "3105b8f7-778e-4c87-8fdb-a76b000683a3",
   "metadata": {},
   "source": [
    "Now, we have to generate a summary of the statistical analysis contained in the \"stat_res\" object. To do that, we use the `summary` method."
   ]
  },
  {
   "cell_type": "code",
   "execution_count": null,
   "id": "abd3b089-2e2a-41f7-8c45-02df5dfcce57",
   "metadata": {},
   "outputs": [],
   "source": [
    "stat_res.summary()"
   ]
  },
  {
   "cell_type": "markdown",
   "id": "1fe17066-5ee5-478a-94bf-f9f49ca6d7d8",
   "metadata": {},
   "source": [
    "Store the results in a dataframe called \"res\", so you can work with the results.\n",
    "\n",
    "To do this, apply the PyDESeq2 attribute `results_df` to your stat_res object"
   ]
  },
  {
   "cell_type": "code",
   "execution_count": null,
   "id": "57072ee4-df1b-42e9-a903-7c9744e17e3b",
   "metadata": {},
   "outputs": [],
   "source": [
    "res =\n",
    "res"
   ]
  },
  {
   "cell_type": "markdown",
   "id": "d1c7e991-cfaf-42d1-89a9-2dda48d34442",
   "metadata": {},
   "source": [
    "To make sure you understand the differential expression analysis, do the exercise below - the answers will be helpful to complete the bioinformatics analysis summary"
   ]
  },
  {
   "cell_type": "markdown",
   "id": "5c7dcc6f-6f3f-4503-94e1-911d68a337d9",
   "metadata": {},
   "source": [
    "<div class=\"alert alert-block alert-warning\">\n",
    "    \n",
    "- Pick the first gene in the res dataframe that has a Log2FoldChange higher than 1 or smaller than -1\n",
    "- Find the reads for that gene in each of your samples. You can find them by exploring the \"ReadPerGene.csv\" file that you saved in workshop 2B\n",
    "- Explain how the expression of that gene changes between samples and how that relates to the Log2FoldChange value shown in your differential expression results"
   ]
  },
  {
   "cell_type": "code",
   "execution_count": null,
   "id": "6f896d06-a51f-42df-a58d-ef5b18a750a8",
   "metadata": {},
   "outputs": [],
   "source": [
    "#Add your code here"
   ]
  },
  {
   "cell_type": "markdown",
   "id": "2a65b5c7-092c-47ff-944b-4c2651ca5a82",
   "metadata": {},
   "source": [
    "You can use this text cell to make notes, or add the answers straight into your analysis summary\n",
    "\n",
    "\\\n",
    "\n",
    "\\\n",
    "\n",
    "\\"
   ]
  },
  {
   "cell_type": "markdown",
   "id": "4cce8214-5b90-4657-b2fb-738c2c0e24d2",
   "metadata": {},
   "source": [
    "# Cleaning and exploring the results"
   ]
  },
  {
   "cell_type": "markdown",
   "id": "8908e2e5-ca39-490f-ba55-1c15a9c0bf51",
   "metadata": {},
   "source": [
    "As we saw in notebook 3A, there might be p-values of 0.0 in your analysis result. You have to replace those 0.0 values with a very small number, so they do not cause errors later on."
   ]
  },
  {
   "cell_type": "code",
   "execution_count": null,
   "id": "270fa236-5c4d-47f9-b63c-a2c31e5f2c22",
   "metadata": {},
   "outputs": [],
   "source": [
    "import numpy as np\n",
    "\n",
    "# replace p-values of 0 with a very small number\n"
   ]
  },
  {
   "cell_type": "code",
   "execution_count": null,
   "id": "5143cefa-6be2-46cb-b00e-fe8d834397de",
   "metadata": {},
   "outputs": [],
   "source": [
    "# make a new folder to save the differential expression analysis results\n",
    "! mkdir -p \"analysis/<dataset>/de\"\n",
    "# save the results with a sensible name\n"
   ]
  },
  {
   "cell_type": "markdown",
   "id": "e0f292ed-b1ec-46b3-963e-b395d6c7ebfb",
   "metadata": {},
   "source": [
    "Now remove genes with very low expression using the threshold baseMean of 10"
   ]
  },
  {
   "cell_type": "code",
   "execution_count": null,
   "id": "801f74ea-04e4-4d67-99b3-6235385c1cd1",
   "metadata": {},
   "outputs": [],
   "source": [
    "# remove results with baseMean<10\n"
   ]
  },
  {
   "cell_type": "markdown",
   "id": "6e2c1224-c235-4726-ad58-a3a4a8d81718",
   "metadata": {},
   "source": [
    "<div class=\"alert alert-block alert-warning\">\n",
    "\n",
    "Find out the following - the answers will be helpful to complete the bioinformatics analysis summary:\n",
    "\n",
    "- How many genes are significantly differentially expressed?\n",
    "- For how many of these genes is the fold change (FC) greater than 2 or less than 0.5?"
   ]
  },
  {
   "cell_type": "code",
   "execution_count": null,
   "id": "87f04b86-8cd6-44e6-88df-66632c80e284",
   "metadata": {},
   "outputs": [],
   "source": [
    "#Add your code here"
   ]
  },
  {
   "cell_type": "markdown",
   "id": "b1b3cee0-441c-43f9-bc45-555e1cb13ff2",
   "metadata": {},
   "source": [
    "# Visualisation"
   ]
  },
  {
   "cell_type": "markdown",
   "id": "16b8f119-1cd6-4bc6-992e-243d71b55890",
   "metadata": {},
   "source": [
    "Visualise your results in a volcano plot"
   ]
  },
  {
   "cell_type": "code",
   "execution_count": null,
   "id": "924ed38c-f3c1-427e-a018-4b5e8ba75162",
   "metadata": {},
   "outputs": [],
   "source": [
    "import matplotlib.pylab as plt"
   ]
  },
  {
   "cell_type": "markdown",
   "id": "754fd3fd-865b-453a-9c4d-cbbea1b21936",
   "metadata": {},
   "source": [
    "<div class=\"alert alert-block alert-warning\">\n",
    "\n",
    "Using matplotlib (plt), make a scatter plot that: \n",
    "* in the X axis plots the log2FoldChange values from the \"res\" dataframe \n",
    "* in the Y axis plots the -log10 of the padj values from the \"res\" dataframe"
   ]
  },
  {
   "cell_type": "code",
   "execution_count": null,
   "id": "f4946406-e959-4b52-944b-85f36f347176",
   "metadata": {},
   "outputs": [],
   "source": [
    "# First, create a new column in the dataframe res that contains the -log10(padj)"
   ]
  },
  {
   "cell_type": "code",
   "execution_count": null,
   "id": "0686f92d-e78a-4f61-b774-c5546308db81",
   "metadata": {},
   "outputs": [],
   "source": [
    "# Now, make the scatter plot "
   ]
  },
  {
   "cell_type": "markdown",
   "id": "abe88484-de07-48ce-bc85-ea4de9a1943d",
   "metadata": {},
   "source": [
    "<div class=\"alert alert-block alert-warning\">\n",
    "\n",
    "Make the volcano plot fancier by \n",
    "\n",
    "1- colouring dots depending on:\n",
    "* whether the corresponding genes is up- or downregulated -> We will consider that a gene is up- or downregulated if it's expression at least doubles or halves between the two conditions\n",
    "* whether the change in expression of the corresponding gene is significant -> We will use padj<0.05\n",
    "\n",
    "2- adding:\n",
    "\n",
    "* axes labels\n",
    "* lines at the threshold values\n",
    "* legend\n",
    "\n",
    "3- save it as a png image so you can use it later"
   ]
  },
  {
   "cell_type": "code",
   "execution_count": null,
   "id": "c8c6c0c7-a3a4-4ee0-8b0e-2ea496923b22",
   "metadata": {},
   "outputs": [],
   "source": [
    "# define which parameters determine if a gene is significantly up or down\n",
    "\n",
    "# plot  all the genes and label as non-significant\n",
    "\n",
    "# colour downregulated genes in blue\n",
    "\n",
    "# colour upregulated genes in red\n",
    "\n",
    "# add axes labels\n",
    "\n",
    "# add threshold lines\n",
    "plt.axvline(-2,color=\"grey\",linestyle=\"--\")\n",
    "plt.axvline(2,color=\"grey\",linestyle=\"--\")\n",
    "plt.axhline(2,color=\"grey\",linestyle=\"--\")\n",
    "\n",
    "# add a legend\n",
    "\n",
    "# save as png\n"
   ]
  },
  {
   "cell_type": "markdown",
   "id": "4477fa82-c02a-4881-8423-977b63b2ed3e",
   "metadata": {},
   "source": [
    "Remember that you can, if you wish, create and interactive volcano plot to explore your results further. You might find it useful for the development of your grant proposal. "
   ]
  },
  {
   "cell_type": "markdown",
   "id": "50ae1455-9762-43bc-a080-1d2d9e629ed1",
   "metadata": {},
   "source": [
    "That is the end of the analysis in Python. Well done! You made it!\n",
    "\n",
    "We will now move on to exploring which GO terms and metabolic pathways are represented in our lists of up- and down-regulated genes. To make sure everyone is on the same page, we have uploaded the lists of up- and down-regulated genes to Learn. Please use those from now on. "
   ]
  }
 ],
 "metadata": {
  "kernelspec": {
   "display_name": "Python 3 (ipykernel)",
   "language": "python",
   "name": "python3"
  },
  "language_info": {
   "codemirror_mode": {
    "name": "ipython",
    "version": 3
   },
   "file_extension": ".py",
   "mimetype": "text/x-python",
   "name": "python",
   "nbconvert_exporter": "python",
   "pygments_lexer": "ipython3",
   "version": "3.12.11"
  }
 },
 "nbformat": 4,
 "nbformat_minor": 5
}
