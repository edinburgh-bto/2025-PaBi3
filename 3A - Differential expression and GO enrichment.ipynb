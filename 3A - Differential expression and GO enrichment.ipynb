{
 "cells": [
  {
   "cell_type": "markdown",
   "id": "542fdaa8-1e05-4605-94f8-b6bc885fc64a",
   "metadata": {},
   "source": [
    "# What to expect\n",
    "\n",
    "In notebook 2A (and 2B for your dataset) we:\n",
    "\n",
    "- Had a look at the mapping results\n",
    "- Combined reads per gene from all the samples in our experiment into a master dataframe and stored it as \"analysis/Schistosoma_mansoni/star/ReadsPerGene.csv\"\n",
    "- Normalised the reads using PyDESeq2\n",
    "- Visualised our results in a PCA plot\n",
    "\n",
    "In this session, we will complete the analysis to find out which genes are differentially expressed. We will do this first for the example dataset <i>Schistosoma mansoni</i>, and then in notebook 3B you will repeat the process for your chosen dataset. \n",
    "\n",
    "For your dataset, you will also look at the GO terms and metabolic pathways associated with your differentially expressed genes."
   ]
  },
  {
   "cell_type": "markdown",
   "id": "f1a5f7c0-f1d8-4779-9b9c-0e9b8d76ebc7",
   "metadata": {},
   "source": [
    "# Set up\n",
    "First, we need to import the required libraries and install pydeseq2 again. Since this time we also want to perform a statistical analysis, to find out which differences in gene expression are statistically significant, we also need to import DeseqStats."
   ]
  },
  {
   "cell_type": "code",
   "execution_count": null,
   "id": "ec138a25-da0c-4420-88ca-72fe4e6697e0",
   "metadata": {},
   "outputs": [],
   "source": [
    "# import required libraries\n",
    "import pandas as pd\n",
    "\n",
    "#Install PyDESeq2 and import required classes\n",
    "! pip install --quiet pydeseq2\n",
    "from pydeseq2.dds import DeseqDataSet\n",
    "from pydeseq2.ds import DeseqStats"
   ]
  },
  {
   "cell_type": "markdown",
   "id": "a625d64d-87e6-4c07-ac2a-1f139ef1072c",
   "metadata": {},
   "source": [
    "We now need to create the dds object again, as we will use it for the next steps of the analysis.\n",
    "\n",
    "As you might remember from workshop 2A, the <i>Schistosoma mansoni</i> dataset had samples from four different stages: 3 hr schistosomulum, 24 hr schistosomulum, cercarium and platyhelminth adult. We want to focus on comparing cercarium and 24hr schistosomulum."
   ]
  },
  {
   "cell_type": "markdown",
   "id": "99dbf38b-22da-4bd8-a826-a1bbca259874",
   "metadata": {},
   "source": [
    "<div class=\"alert alert-block alert-warning\">\n",
    "    \n",
    "Create the counts and the metadata tables and restrict them so that they only contain the conditions we want to compare."
   ]
  },
  {
   "cell_type": "code",
   "execution_count": null,
   "id": "810a4b3a-1df2-494b-ab96-1d47f752b587",
   "metadata": {},
   "outputs": [],
   "source": [
    "# load the counts (\"ReadsPerGene.csv\") and metadata (\"Metadata.csv\") again - remember that we have to transpose the ReadsPerGene table to use it in PyDESeq2\n",
    "counts = \n",
    "metadata = "
   ]
  },
  {
   "cell_type": "code",
   "execution_count": null,
   "id": "6814e668",
   "metadata": {},
   "outputs": [],
   "source": [
    "# Have a look at the counts dataframe...\n",
    "counts"
   ]
  },
  {
   "cell_type": "code",
   "execution_count": null,
   "id": "9db5dd07",
   "metadata": {},
   "outputs": [],
   "source": [
    "# ...and the metadata dataframe\n",
    "metadata"
   ]
  },
  {
   "cell_type": "markdown",
   "id": "aa280806",
   "metadata": {},
   "source": [
    "<details>\n",
    "<summary><i>Hints and tips</i></summary>\n",
    "    \n",
    "You could use the `.isin` method to filter rows, or `.loc` to select rows by their index. \n",
    "\n",
    "</details>"
   ]
  },
  {
   "cell_type": "code",
   "execution_count": null,
   "id": "e1a0dd19",
   "metadata": {},
   "outputs": [],
   "source": [
    "# restrict to the 2 stages we want to compare: [\"cercarium\", \"24hr schistosomulum\"]\n",
    "\n",
    "metadata_s = \n",
    "\n",
    "counts_s = "
   ]
  },
  {
   "cell_type": "markdown",
   "id": "49689673-da16-4ca2-ba10-68387c341a85",
   "metadata": {},
   "source": [
    "Now that we have the counts and metadata, we can create the deseq2 dataset object again"
   ]
  },
  {
   "cell_type": "code",
   "execution_count": null,
   "id": "d38b96a9-1efa-4074-8484-dfa83921097c",
   "metadata": {},
   "outputs": [],
   "source": [
    "# create DESeq2 dataset object\n",
    "dds = DeseqDataSet(\n",
    "    counts=counts_s,\n",
    "    metadata=metadata_s,\n",
    "    design=\"stage\",  # compare samples based on the developmental \"stage\"\n",
    "    refit_cooks=True\n",
    ")"
   ]
  },
  {
   "cell_type": "markdown",
   "id": "2cbcd639-a5be-4d29-8695-a75171330405",
   "metadata": {},
   "source": [
    "# Differential Expression analysis"
   ]
  },
  {
   "cell_type": "markdown",
   "id": "7881d634",
   "metadata": {},
   "source": [
    "As we did in notebook 2A, we will apply the `deseq2` method to our dds object. Remember that this method normalises the data, estimates the dispersion and calculates the log fold change (LFC) based on the design factor."
   ]
  },
  {
   "cell_type": "code",
   "execution_count": null,
   "id": "0a9eec29-7561-4919-956d-63f1d705025d",
   "metadata": {},
   "outputs": [],
   "source": [
    "# Run DESeq2\n",
    "dds.deseq2()"
   ]
  },
  {
   "cell_type": "markdown",
   "id": "cbc79f18",
   "metadata": {},
   "source": [
    "This time, however, we also want to perform a statistical analysis, to find out which differences in gene expression are statistically significant. To do that, we use the class `DeseqStats` on our dds object, and store the output in a new object called \"stat_res\""
   ]
  },
  {
   "cell_type": "code",
   "execution_count": null,
   "id": "7d3d80a2-9d1b-4b0d-abd2-43cafb19c3d6",
   "metadata": {},
   "outputs": [],
   "source": [
    "stat_res=DeseqStats(dds, contrast=[\"stage\", \"24 hr schistosomulum\", \"cercarium\"])"
   ]
  },
  {
   "cell_type": "markdown",
   "id": "4c4ba029-8574-486e-9460-1043ce703332",
   "metadata": {},
   "source": [
    "Note that in the command we have to specify what we want to use in our pairwise comparison (`contrast`) \n",
    "\n",
    "- `stage` : this indicates that we are comparing samples based on their developmental stages\n",
    "- `24 hr schistosomulum` and `cercarium`: this indicates the two stages we want to compare. The order in which we write them is important. With the code above, fold change will be calculated as Gene counts in 24 hr schistosomulum divided by Gene counts in cercarium"
   ]
  },
  {
   "cell_type": "markdown",
   "id": "44a6eba0",
   "metadata": {},
   "source": [
    "Now, we have to generate a summary of the statistical analysis contained in the \"stat_res\" object. To do that, we use the `summary` method."
   ]
  },
  {
   "cell_type": "code",
   "execution_count": null,
   "id": "78c63747",
   "metadata": {},
   "outputs": [],
   "source": [
    "stat_res.summary()"
   ]
  },
  {
   "cell_type": "markdown",
   "id": "59424c9b",
   "metadata": {},
   "source": [
    "Voila! This is the raw result of our differential expression analysis. We can find out more about the columns in these results on the [page for the DESeq2 gene-level differential expression workflow](https://master.bioconductor.org/packages/release/workflows/vignettes/rnaseqGene/inst/doc/rnaseqGene.html#building-the-results-table) , as the python module we are using was developed from the DESeq2 tool. \n",
    "\n",
    "Let's take a moment to make sure we understand the results."
   ]
  },
  {
   "cell_type": "markdown",
   "id": "c9edc2dc-2579-4f25-aafe-8498e3ececa8",
   "metadata": {},
   "source": [
    "<div class=\"alert alert-block alert-warning\">\n",
    "\n",
    "Please discuss the following in your group:\n",
    "\n",
    "- baseMean: what is this value? How is it calculated?\n",
    "  \n",
    "- log2FoldChange: what is this value? Why do you think the fold change is calculated as log2? What does a positive log2Foldchange mean?\n",
    "  \n",
    "- lfcSE: what is this value?\n",
    "\n",
    "- stat: what is this value?\n",
    "\n",
    "- pvalue and padj: what is the difference between these two values?"
   ]
  },
  {
   "cell_type": "markdown",
   "id": "43694e80-bf1c-40e5-9ee3-c1599fc6171d",
   "metadata": {},
   "source": [
    "You can add some notes from your discussion on this text cell\n",
    "\n",
    "\\\n",
    "\n",
    "\\\n",
    "\n",
    "\\"
   ]
  },
  {
   "cell_type": "markdown",
   "id": "7968c8a6",
   "metadata": {},
   "source": [
    "We will now store the results in a dataframe called \"res\", so we can work with the results.\n",
    "\n",
    "To do this, we will apply the PyDESeq2 attribute `results_df` to our stat_res object"
   ]
  },
  {
   "cell_type": "code",
   "execution_count": null,
   "id": "bfd6e771-7a97-4199-9404-76a5a7d7fe9d",
   "metadata": {},
   "outputs": [],
   "source": [
    "res = stat_res.results_df\n",
    "res"
   ]
  },
  {
   "cell_type": "markdown",
   "id": "3bc6c990-208b-4c4d-8a26-f924e8564eff",
   "metadata": {},
   "source": [
    "<div class=\"alert alert-block alert-success\">\n",
    "<b>Learning outcomes</b>\n",
    "\n",
    "You should now...\n",
    "\n",
    "- Know how to perform differential expression analysis using PyDESeq2\n",
    "- Understand the results produced by PyDESeq2"
   ]
  },
  {
   "cell_type": "markdown",
   "id": "0765b388-3c8f-4369-85b8-27345b87acf9",
   "metadata": {},
   "source": [
    "# Cleaning and exploring the results\n",
    "\n",
    "There are a couple of things we should check in our results dataframe"
   ]
  },
  {
   "cell_type": "markdown",
   "id": "42f64cab-a2ff-4009-8aed-873c8ff2031f",
   "metadata": {},
   "source": [
    "<div class=\"alert alert-block alert-warning\">\n",
    "\n",
    "Use `describe()` to get an overview of the res dataframe. We practised this in notebook 1. "
   ]
  },
  {
   "cell_type": "code",
   "execution_count": null,
   "id": "afa6157c-30c0-4c80-8f03-619a0937b244",
   "metadata": {},
   "outputs": [],
   "source": [
    "#Add your code here\n"
   ]
  },
  {
   "cell_type": "markdown",
   "id": "8d4d88d0-258a-4508-ab71-872066b251fc",
   "metadata": {},
   "source": [
    " <div class=\"alert alert-block alert-warning\">\n",
    "     \n",
    "Discuss in your groups whether there is anything that does not look right"
   ]
  },
  {
   "cell_type": "markdown",
   "id": "ded7594a-1871-4a86-ad61-13fceb65442c",
   "metadata": {},
   "source": [
    "<details>\n",
    "<summary><i>Hints and tips</i></summary>\n",
    "    \n",
    "    Think about what each column means and you will realise that there are three values that do not make sense\n",
    "\n",
    "</details>"
   ]
  },
  {
   "cell_type": "markdown",
   "id": "fce401aa-7d02-4dbb-8a3b-f7fe35e79076",
   "metadata": {},
   "source": [
    "You can add some notes from your discussion on this text cell\n",
    "\n",
    "\\\n",
    "\n",
    "\\\n",
    "\n",
    "\\"
   ]
  },
  {
   "cell_type": "markdown",
   "id": "5e857140-440b-4c82-9c1f-c314fbcfbf5c",
   "metadata": {},
   "source": [
    "Let's fix the first problem"
   ]
  },
  {
   "cell_type": "code",
   "execution_count": null,
   "id": "7bb263cb",
   "metadata": {},
   "outputs": [],
   "source": [
    "import numpy as np\n",
    "\n",
    "# replace p-values and padj values of 0 with a very small number\n",
    "res.loc[ res.pvalue == 0, \"pvalue\" ] = np.finfo(np.float64).tiny\n",
    "res.loc[ res.padj == 0, \"padj\" ] = np.finfo(np.float64).tiny"
   ]
  },
  {
   "cell_type": "markdown",
   "id": "0b16e785-e0e7-437e-a648-8af43ca76327",
   "metadata": {},
   "source": [
    "In the code above:\n",
    "\n",
    "- `.loc` is a pandas attribute used to access a group of rows and columns\n",
    "- `res.pvalue == 0` is a boolean condition checking where the value in the column \"pvalue\" of the dataframe \"res\" is exactly zero\n",
    "- `\"pvalue\"` indicates which column will be modified when the boolean condition is met. In other words, the code will target the \"pvalue\" column where its values are zero\n",
    "- `np.finfo(np.float64)` finds the machine limits for the numpy data type float64 (decimal numbers)\n",
    "- `.tiny` is an attribute of the limits obtained from np.finfo(np.float64) that provides the smallest positive float64 number that the system can handle"
   ]
  },
  {
   "cell_type": "markdown",
   "id": "becc557e-8835-4037-b87b-c24baa5c0a4b",
   "metadata": {},
   "source": [
    " <div class=\"alert alert-block alert-warning\">\n",
    "Let's check that it worked"
   ]
  },
  {
   "cell_type": "code",
   "execution_count": null,
   "id": "ea9ab23b-c7ed-427f-9fd0-b11f5a2686e4",
   "metadata": {},
   "outputs": [],
   "source": [
    "# Add the code here"
   ]
  },
  {
   "cell_type": "markdown",
   "id": "f70eb825-39ae-4a24-8fce-448411f5ce50",
   "metadata": {},
   "source": [
    "Now that we got rid of the 0 values, let's save the dataframe in csv format in case we want to use it outside noteable"
   ]
  },
  {
   "cell_type": "code",
   "execution_count": null,
   "id": "2799b9e2-d99b-43da-a9af-173aacf71680",
   "metadata": {},
   "outputs": [],
   "source": [
    "# save to csv file\n",
    "res.to_csv(f\"analysis/Schistosoma_mansoni/24h_schistosomulum_vs_cercarium.full.csv\")"
   ]
  },
  {
   "cell_type": "markdown",
   "id": "a531563f-d581-4b6d-94fd-a191a9a9ada3",
   "metadata": {},
   "source": [
    "Let's fix the second problem. \n",
    "The results for a gene that is very lowly expressed across all samples will probably not be very reliable, or very informative of a biological function. They might also make further visualisation skewed. To avoid this, we will remove genes with very low expression on average. A common (although arbitrary) threshold for this is a baseMean of 10."
   ]
  },
  {
   "cell_type": "markdown",
   "id": "88556c89-0225-4ffb-9275-5b794127de88",
   "metadata": {},
   "source": [
    "<div class=\"alert alert-block alert-warning\">\n",
    "\n",
    "Fill in the gaps in the code below to remove results with baseMean<10 from the res dataframe. You practised how to do this in DExB2 class 8. "
   ]
  },
  {
   "cell_type": "code",
   "execution_count": null,
   "id": "4f8d1639",
   "metadata": {},
   "outputs": [],
   "source": [
    "# Filter results with baseMean<10\n",
    "res=res[...]\n",
    "# Check that it has worked"
   ]
  },
  {
   "cell_type": "markdown",
   "id": "3c633966-dbc2-4200-86ff-52a9f61b2863",
   "metadata": {},
   "source": [
    "Let's start exploring the results"
   ]
  },
  {
   "cell_type": "markdown",
   "id": "4cac8f5f-e0b5-4a63-ae41-676309b9ff8d",
   "metadata": {},
   "source": [
    "<div class=\"alert alert-block alert-warning\">\n",
    "\n",
    "Find out and discuss in your group:\n",
    "\n",
    "- How many genes are significantly differentially expressed?\n",
    "- For how many of these significant genes is the fold change (FC) greater than 2 or less than 0.5? Store them in a new dataframe called \"sigs\", and save it as a csv file called \"cercarium_vs_24h_schistosomulum.filtered\""
   ]
  },
  {
   "cell_type": "code",
   "execution_count": null,
   "id": "ba5d3e24-9a23-4472-b6ca-75d0f66f333c",
   "metadata": {},
   "outputs": [],
   "source": [
    "#Find out how many genes are significantly differentially expressed\n"
   ]
  },
  {
   "cell_type": "markdown",
   "id": "c06c2885",
   "metadata": {},
   "source": [
    "Get a list of only those genes that have a fold change FC > 2 or FC < 0.5 and are significantly changed."
   ]
  },
  {
   "cell_type": "markdown",
   "id": "e2d943e0",
   "metadata": {},
   "source": [
    "<details>\n",
    "<summary><i>Hints and tips</i></summary>\n",
    "    \n",
    "- Significance here is considered to be a padj of \\<0.05\n",
    "- Don't forget that a log2\\(2\\) = 1 and log2\\(0.5\\) = -1\n",
    "\n",
    "</details>"
   ]
  },
  {
   "cell_type": "code",
   "execution_count": null,
   "id": "9572275c-aff1-4012-b3b6-89b482a95e3d",
   "metadata": {},
   "outputs": [],
   "source": [
    "# Get a list of only those genes that have a fold change FC > 2 or FC < 0.5 and are significantly changed\n",
    "sigs = \n",
    "sigs"
   ]
  },
  {
   "cell_type": "code",
   "execution_count": null,
   "id": "1922b4ea-716d-4053-99e3-e895a899cc8b",
   "metadata": {},
   "outputs": [],
   "source": [
    "# save it as a csv file\n",
    "sigs.to_csv(f\"analysis/Schistosoma_mansoni/24h_schistosomulum_vs_cercarium.filtered.csv\")"
   ]
  },
  {
   "cell_type": "markdown",
   "id": "b679204f-c05e-43e6-b115-1526e8d6adda",
   "metadata": {},
   "source": [
    "<div class=\"alert alert-block alert-success\">\n",
    "<b>Learning outcomes</b>\n",
    "\n",
    "You should now...\n",
    "\n",
    "- Understand what to look for when cleaning differential expression analysis results\n",
    "- Know how to explore and filter the results"
   ]
  },
  {
   "cell_type": "markdown",
   "id": "e23bffee",
   "metadata": {},
   "source": [
    "# Visualisation"
   ]
  },
  {
   "cell_type": "markdown",
   "id": "b94f4778",
   "metadata": {},
   "source": [
    "<figure>\n",
    "    <img src=\"https://scienceparkstudygroup.github.io/rna-seq-lesson/img/volcano_plot.png\" align=\"right\" width=\"400\">\n",
    "</figure>\n",
    "\n",
    "A common way to visualise differential expression analysis results is a volcano plot.\n",
    "The advantage of this plot is that we can see at the same time the change in gene expression and the statistical significance of that change, for each gene. That makes it easy to identify genes for further analysis.\n",
    "As shown in the figure on the right (taken from [this source](https://scienceparkstudygroup.github.io/rna-seq-lesson/06-differential-analysis/index.html#3-volcano-plot)), in a typical volcano plot:\n",
    "* on the X axis we plot the log2 fold change in gene expression\n",
    "* on the Y axis we plot the -log10(p-value). There are two reasons why we use -log10(p-value):\n",
    "\n",
    "    (a) To help with visualisation, in the same way that the fold change in gene expression was calculated as log2 by PyDESeq2. \n",
    "\n",
    "    (b) If you remember previous stats lessons, p-values are a probability, and therefore are always between 0 and 1. The log10 of a number between 0 and 1 will always be negative. To make interpretation easier, we do \"-\"log10, so the result is always a positive number. For example: log10(0.5)=-0.301 ; -[log10(0.5)]=-[-0.301]=0.301."
   ]
  },
  {
   "cell_type": "markdown",
   "id": "7e3f82a3",
   "metadata": {},
   "source": [
    "Let's plot our results in a volcano plot. To do that, we will use matplotlib, which we import as \"plt\"\n",
    "\n",
    "You used matplotlib in DExB2, for example in classes 5 and 6. If you need a quick refresher, have a look [here](https://matplotlib.org/stable/users/explain/quick_start.html)"
   ]
  },
  {
   "cell_type": "code",
   "execution_count": null,
   "id": "a2570edc-aae7-4680-9d81-d9d6687fb3a6",
   "metadata": {},
   "outputs": [],
   "source": [
    "import matplotlib.pylab as plt"
   ]
  },
  {
   "cell_type": "markdown",
   "id": "7f051e3e",
   "metadata": {},
   "source": [
    "<div class=\"alert alert-block alert-warning\">\n",
    "\n",
    "Using matplotlib (plt), make a scatter plot that: \n",
    "* in the X axis plots the log2FoldChange values from the \"res\" dataframe \n",
    "* in the Y axis plots -log10 of the padj values from the \"res\" dataframe"
   ]
  },
  {
   "cell_type": "code",
   "execution_count": null,
   "id": "c25aca93-a3e1-4a50-8887-13d074ae8c4c",
   "metadata": {},
   "outputs": [],
   "source": [
    "# First, create a new column in the dataframe res that contains the -log10(padj). \n"
   ]
  },
  {
   "cell_type": "code",
   "execution_count": null,
   "id": "7963880f-a819-491e-beee-b011a0c3760a",
   "metadata": {},
   "outputs": [],
   "source": [
    "# Now, make the scatter plot using the code below\n",
    "plt.scatter(x=...,y=..., s=1)"
   ]
  },
  {
   "cell_type": "markdown",
   "id": "16576e6d",
   "metadata": {},
   "source": [
    "Let's make the volcano plot fancier by colouring dots depending on:\n",
    "* whether a gene is up- or downregulated -> We will consider that a gene is up- or downregulated if its expression level at least doubles or halves between the two conditions\n",
    "* whether the change is significant -> We will use padj<0.05"
   ]
  },
  {
   "cell_type": "markdown",
   "id": "7b927aee-6714-4ecf-afa6-141b0b2b6937",
   "metadata": {},
   "source": [
    "<div class=\"alert alert-block alert-warning\">\n",
    "\n",
    "Fill in the code below to colour the dots in the volcano plot"
   ]
  },
  {
   "cell_type": "markdown",
   "id": "425d682d",
   "metadata": {},
   "source": [
    "<details>\n",
    "<summary><i>Hints and tips</i></summary>\n",
    "    \n",
    "In the `plt.scatter` command, `x` and `y` will need to be given data using `df['column_of_interest']`.\n",
    "</details>"
   ]
  },
  {
   "cell_type": "code",
   "execution_count": null,
   "id": "c36d893c",
   "metadata": {},
   "outputs": [],
   "source": [
    "# define which parameters determine if a gene is significantly up or down, and assign them to a new dataframe called up or down\n",
    "down = res[(res['...']<=...)&(res['...']<...)]\n",
    "up = res[(res['...']>=...)&(res['...']<...)]\n",
    "\n",
    "# plot all the genes and label as non-significant\n",
    "plt.scatter(x=...,y=..., s=1, label=\"Not significant\")\n",
    "# colour downregulated genes in blue\n",
    "plt.scatter(x=...,y=...,s=1,label=\"Down-regulated\",color=\"blue\")\n",
    "# colour upregulated genes in red\n",
    "plt.scatter(x=...,y=...,s=1,label=\"Up-regulated\",color=\"red\")"
   ]
  },
  {
   "cell_type": "markdown",
   "id": "1b408d21",
   "metadata": {},
   "source": [
    "<div class=\"alert alert-block alert-warning\">\n",
    "\n",
    "Complete the code below to improve the volcano plot further by adding:\n",
    "\n",
    "* axes labels\n",
    "* lines at the threshold values\n",
    "* legend\n",
    "\n",
    "And save it as a png image so you can use it later"
   ]
  },
  {
   "cell_type": "code",
   "execution_count": null,
   "id": "55f534db-0e92-46a5-a2f4-edfb52c43d25",
   "metadata": {},
   "outputs": [],
   "source": [
    "# define which parameters determine if a gene is significantly up or down, and assign them to a new dataframe called up or down\n",
    "down = res[(res['...']<=...)&(res['...']<...)]\n",
    "up = res[(res['...']>=...)&(res['...']<...)]\n",
    "\n",
    "# plot all the genes and label as non-significant\n",
    "plt.scatter(x=...,y=..., s=1, label=\"Not significant\")\n",
    "# colour downregulated genes in blue\n",
    "plt.scatter(x=...,y=...,s=1,label=\"Down-regulated\",color=\"blue\")\n",
    "# colour upregulated genes in red\n",
    "plt.scatter(x=...,y=...,s=1,label=\"Up-regulated\",color=\"red\")\n",
    "\n",
    "# Add axes labels\n",
    "plt.xlabel(\"...\")\n",
    "plt.ylabel(\"...\")\n",
    "\n",
    "# Add threshold lines\n",
    "plt.axvline(-2,color=\"grey\",linestyle=\"--\")\n",
    "plt.axvline(2,color=\"grey\",linestyle=\"--\")\n",
    "plt.axhline(2,color=\"grey\",linestyle=\"--\")\n",
    "\n",
    "# Add a legend\n",
    "plt.legend()\n",
    "\n",
    "# Save as png\n",
    "plt.savefig('...')"
   ]
  },
  {
   "cell_type": "markdown",
   "id": "5822ffb8-9834-421c-a826-0ff1c9800f35",
   "metadata": {},
   "source": [
    "<div class=\"alert alert-block alert-success\">\n",
    "<b>Learning outcomes</b>\n",
    "\n",
    "You should now...\n",
    "\n",
    "- Know how to interpret a volcano plot\n",
    "- Know how to create a volcano plot to visualise your results"
   ]
  },
  {
   "cell_type": "markdown",
   "id": "17d51b43-485a-4d4f-b1af-332d660c9b09",
   "metadata": {},
   "source": [
    "# Extension - Making an interactive volcano plot"
   ]
  },
  {
   "cell_type": "markdown",
   "id": "922015e6",
   "metadata": {},
   "source": [
    "To explore our data, it would be very convenient if we could hover over a dot and get the gene name. Making that sort of interactive plot is possible using the python library [plotly](https://plotly.com/python/)."
   ]
  },
  {
   "cell_type": "code",
   "execution_count": null,
   "id": "e9cad81a",
   "metadata": {},
   "outputs": [],
   "source": [
    "# First, we install and import\n",
    "! pip install plotly\n",
    "import plotly.express as px"
   ]
  },
  {
   "cell_type": "code",
   "execution_count": null,
   "id": "2bce3d9d",
   "metadata": {},
   "outputs": [],
   "source": [
    "# Plotly requires a slightly different input than matplotlib. In our dataframe res, we need to create a new column with the gene names\n"
   ]
  },
  {
   "cell_type": "code",
   "execution_count": null,
   "id": "94c40ff0",
   "metadata": {},
   "outputs": [],
   "source": [
    "# lets check that it worked\n"
   ]
  },
  {
   "cell_type": "code",
   "execution_count": null,
   "id": "1f06bd86",
   "metadata": {
    "scrolled": true
   },
   "outputs": [],
   "source": [
    "# Now, we can use our new columns to make the volcano plot\n",
    "fig = px.scatter(\n",
    "    res,\n",
    "    x='log2FoldChange',\n",
    "    y='-log10 padj',\n",
    "    hover_data=['log2FoldChange', 'padj','gene'],\n",
    "    title='Volcano Plot 24h_schistosomulum_vs_cercarum'\n",
    ")\n",
    "\n",
    "# Show the plot\n",
    "fig.show()"
   ]
  }
 ],
 "metadata": {
  "kernelspec": {
   "display_name": "Python 3 (ipykernel)",
   "language": "python",
   "name": "python3"
  },
  "language_info": {
   "codemirror_mode": {
    "name": "ipython",
    "version": 3
   },
   "file_extension": ".py",
   "mimetype": "text/x-python",
   "name": "python",
   "nbconvert_exporter": "python",
   "pygments_lexer": "ipython3",
   "version": "3.12.11"
  }
 },
 "nbformat": 4,
 "nbformat_minor": 5
}
